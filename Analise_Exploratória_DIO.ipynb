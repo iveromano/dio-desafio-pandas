{
  "nbformat": 4,
  "nbformat_minor": 0,
  "metadata": {
    "colab": {
      "name": "Analise_DIO.ipynb",
      "provenance": [],
      "collapsed_sections": []
    },
    "kernelspec": {
      "name": "python3",
      "display_name": "Python 3"
    },
    "language_info": {
      "name": "python"
    }
  },
  "cells": [
    {
      "cell_type": "markdown",
      "metadata": {
        "id": "Z-TWWzV6ioTn"
      },
      "source": [
        "# **Análise Exploratória de um Dataset de Casas para Alugar**\n",
        "\n",
        "\n",
        "\n",
        "\n",
        "\n",
        "\n",
        "\n",
        "\n"
      ]
    },
    {
      "cell_type": "markdown",
      "metadata": {
        "id": "wxM1I2APjO-D"
      },
      "source": [
        "**Dataset name:** *houses_to_rent_v2.csv*\n",
        "\n",
        "\n",
        "**Número de linhas:** *10962 (número total de imóveis disponíveis para aluguel)*\n",
        "\n",
        "**Número de cidades**: *5*\n",
        "\n",
        "**Data dos dados:**  *20/03/2020*\n"
      ]
    },
    {
      "cell_type": "code",
      "metadata": {
        "id": "1oNzjufFk9aV"
      },
      "source": [
        "#importando as bibliotecas\n",
        "import pandas as pd\n",
        "import matplotlib.pyplot as plt\n",
        "plt.style.use(\"seaborn-colorblind\")"
      ],
      "execution_count": 98,
      "outputs": []
    },
    {
      "cell_type": "code",
      "metadata": {
        "colab": {
          "resources": {
            "http://localhost:8080/nbextensions/google.colab/files.js": {
              "data": "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",
              "ok": true,
              "headers": [
                [
                  "content-type",
                  "application/javascript"
                ]
              ],
              "status": 200,
              "status_text": ""
            }
          },
          "base_uri": "https://localhost:8080/",
          "height": 73
        },
        "id": "qN7Jvm0DnaFI",
        "outputId": "476f6a5c-2e9d-4c1b-9f86-e16340e79a40"
      },
      "source": [
        "#upload do arquivo com os dados as serem analisados\n",
        "from google.colab import files \n",
        "arq = files.upload()"
      ],
      "execution_count": 99,
      "outputs": [
        {
          "output_type": "display_data",
          "data": {
            "text/html": [
              "\n",
              "     <input type=\"file\" id=\"files-b04c0a2c-ac25-453a-94a7-e5c591817740\" name=\"files[]\" multiple disabled\n",
              "        style=\"border:none\" />\n",
              "     <output id=\"result-b04c0a2c-ac25-453a-94a7-e5c591817740\">\n",
              "      Upload widget is only available when the cell has been executed in the\n",
              "      current browser session. Please rerun this cell to enable.\n",
              "      </output>\n",
              "      <script src=\"/nbextensions/google.colab/files.js\"></script> "
            ],
            "text/plain": [
              "<IPython.core.display.HTML object>"
            ]
          },
          "metadata": {}
        },
        {
          "output_type": "stream",
          "name": "stdout",
          "text": [
            "Saving houses_to_rent_v2.csv to houses_to_rent_v2 (1).csv\n"
          ]
        }
      ]
    },
    {
      "cell_type": "code",
      "metadata": {
        "id": "J8bHeDXFoSkR"
      },
      "source": [
        "#criando o dataframe\n",
        "df = pd.read_csv(\"houses_to_rent_v2.csv\")"
      ],
      "execution_count": 100,
      "outputs": []
    },
    {
      "cell_type": "code",
      "metadata": {
        "colab": {
          "base_uri": "https://localhost:8080/",
          "height": 195
        },
        "id": "1p9gPBpHolcS",
        "outputId": "9d816d01-67b0-430d-91c0-00a0f30b29cf"
      },
      "source": [
        "#visualizando amostra dos dados\n",
        "df.head(3)"
      ],
      "execution_count": 101,
      "outputs": [
        {
          "output_type": "execute_result",
          "data": {
            "text/html": [
              "<div>\n",
              "<style scoped>\n",
              "    .dataframe tbody tr th:only-of-type {\n",
              "        vertical-align: middle;\n",
              "    }\n",
              "\n",
              "    .dataframe tbody tr th {\n",
              "        vertical-align: top;\n",
              "    }\n",
              "\n",
              "    .dataframe thead th {\n",
              "        text-align: right;\n",
              "    }\n",
              "</style>\n",
              "<table border=\"1\" class=\"dataframe\">\n",
              "  <thead>\n",
              "    <tr style=\"text-align: right;\">\n",
              "      <th></th>\n",
              "      <th>city</th>\n",
              "      <th>area</th>\n",
              "      <th>rooms</th>\n",
              "      <th>bathroom</th>\n",
              "      <th>parking spaces</th>\n",
              "      <th>floor</th>\n",
              "      <th>animal</th>\n",
              "      <th>furniture</th>\n",
              "      <th>hoa (R$)</th>\n",
              "      <th>rent amount (R$)</th>\n",
              "      <th>property tax (R$)</th>\n",
              "      <th>fire insurance (R$)</th>\n",
              "      <th>total (R$)</th>\n",
              "    </tr>\n",
              "  </thead>\n",
              "  <tbody>\n",
              "    <tr>\n",
              "      <th>0</th>\n",
              "      <td>São Paulo</td>\n",
              "      <td>70</td>\n",
              "      <td>2</td>\n",
              "      <td>1</td>\n",
              "      <td>1</td>\n",
              "      <td>7</td>\n",
              "      <td>acept</td>\n",
              "      <td>furnished</td>\n",
              "      <td>2065</td>\n",
              "      <td>3300</td>\n",
              "      <td>211</td>\n",
              "      <td>42</td>\n",
              "      <td>5618</td>\n",
              "    </tr>\n",
              "    <tr>\n",
              "      <th>1</th>\n",
              "      <td>São Paulo</td>\n",
              "      <td>320</td>\n",
              "      <td>4</td>\n",
              "      <td>4</td>\n",
              "      <td>0</td>\n",
              "      <td>20</td>\n",
              "      <td>acept</td>\n",
              "      <td>not furnished</td>\n",
              "      <td>1200</td>\n",
              "      <td>4960</td>\n",
              "      <td>1750</td>\n",
              "      <td>63</td>\n",
              "      <td>7973</td>\n",
              "    </tr>\n",
              "    <tr>\n",
              "      <th>2</th>\n",
              "      <td>Porto Alegre</td>\n",
              "      <td>80</td>\n",
              "      <td>1</td>\n",
              "      <td>1</td>\n",
              "      <td>1</td>\n",
              "      <td>6</td>\n",
              "      <td>acept</td>\n",
              "      <td>not furnished</td>\n",
              "      <td>1000</td>\n",
              "      <td>2800</td>\n",
              "      <td>0</td>\n",
              "      <td>41</td>\n",
              "      <td>3841</td>\n",
              "    </tr>\n",
              "  </tbody>\n",
              "</table>\n",
              "</div>"
            ],
            "text/plain": [
              "           city  area  ...  fire insurance (R$)  total (R$)\n",
              "0     São Paulo    70  ...                   42        5618\n",
              "1     São Paulo   320  ...                   63        7973\n",
              "2  Porto Alegre    80  ...                   41        3841\n",
              "\n",
              "[3 rows x 13 columns]"
            ]
          },
          "metadata": {},
          "execution_count": 101
        }
      ]
    },
    {
      "cell_type": "code",
      "metadata": {
        "colab": {
          "base_uri": "https://localhost:8080/",
          "height": 0
        },
        "id": "JhV_MukVoy1z",
        "outputId": "2724cca6-2f7f-4ff4-8ed8-f4cfb4126426"
      },
      "source": [
        "#explorando a estrutura\n",
        "df.shape"
      ],
      "execution_count": 102,
      "outputs": [
        {
          "output_type": "execute_result",
          "data": {
            "text/plain": [
              "(10692, 13)"
            ]
          },
          "metadata": {},
          "execution_count": 102
        }
      ]
    },
    {
      "cell_type": "code",
      "metadata": {
        "colab": {
          "base_uri": "https://localhost:8080/",
          "height": 0
        },
        "id": "QaLKAh6lpWyU",
        "outputId": "41841ebc-99ae-461a-cdf5-d7a6da57433c"
      },
      "source": [
        "df.dtypes"
      ],
      "execution_count": 103,
      "outputs": [
        {
          "output_type": "execute_result",
          "data": {
            "text/plain": [
              "city                   object\n",
              "area                    int64\n",
              "rooms                   int64\n",
              "bathroom                int64\n",
              "parking spaces          int64\n",
              "floor                  object\n",
              "animal                 object\n",
              "furniture              object\n",
              "hoa (R$)                int64\n",
              "rent amount (R$)        int64\n",
              "property tax (R$)       int64\n",
              "fire insurance (R$)     int64\n",
              "total (R$)              int64\n",
              "dtype: object"
            ]
          },
          "metadata": {},
          "execution_count": 103
        }
      ]
    },
    {
      "cell_type": "code",
      "metadata": {
        "id": "IYIgS2Zfp3IL"
      },
      "source": [
        "#realizando alguns tratamentos\n",
        "df = df.rename(columns={\"city\":\"Cidade\", \"rooms\":\"Quartos\", \"bathroom\":\"Banheiros\", \"parking spaces\":\"VagasEst\", \"floor\":\"Andar\", \"animal\":\"Pets\",\"furniture\":\"Mobiliado\",\"hoa (R$)\":\"Condominio\", \"rent amount (R$)\":\"Aluguel\", \"property tax (R$)\":\"IPTU\", \"fire insurance (R$)\":\"Seg Incendio\"})"
      ],
      "execution_count": 104,
      "outputs": []
    },
    {
      "cell_type": "code",
      "metadata": {
        "colab": {
          "base_uri": "https://localhost:8080/",
          "height": 0
        },
        "id": "nAKx4qxS3Ly6",
        "outputId": "e7f90c2c-0515-4081-b424-a81bcfccfd42"
      },
      "source": [
        "df.columns"
      ],
      "execution_count": 105,
      "outputs": [
        {
          "output_type": "execute_result",
          "data": {
            "text/plain": [
              "Index(['Cidade', 'area', 'Quartos', 'Banheiros', 'VagasEst', 'Andar', 'Pets',\n",
              "       'Mobiliado', 'Condominio', 'Aluguel', 'IPTU', 'Seg Incendio',\n",
              "       'total (R$)'],\n",
              "      dtype='object')"
            ]
          },
          "metadata": {},
          "execution_count": 105
        }
      ]
    },
    {
      "cell_type": "code",
      "metadata": {
        "colab": {
          "base_uri": "https://localhost:8080/",
          "height": 112
        },
        "id": "NELRr_7P2-nG",
        "outputId": "4994ed5d-f0b9-40ac-dd8b-eb72601ab7c1"
      },
      "source": [
        "df.head(2)"
      ],
      "execution_count": 106,
      "outputs": [
        {
          "output_type": "execute_result",
          "data": {
            "text/html": [
              "<div>\n",
              "<style scoped>\n",
              "    .dataframe tbody tr th:only-of-type {\n",
              "        vertical-align: middle;\n",
              "    }\n",
              "\n",
              "    .dataframe tbody tr th {\n",
              "        vertical-align: top;\n",
              "    }\n",
              "\n",
              "    .dataframe thead th {\n",
              "        text-align: right;\n",
              "    }\n",
              "</style>\n",
              "<table border=\"1\" class=\"dataframe\">\n",
              "  <thead>\n",
              "    <tr style=\"text-align: right;\">\n",
              "      <th></th>\n",
              "      <th>Cidade</th>\n",
              "      <th>area</th>\n",
              "      <th>Quartos</th>\n",
              "      <th>Banheiros</th>\n",
              "      <th>VagasEst</th>\n",
              "      <th>Andar</th>\n",
              "      <th>Pets</th>\n",
              "      <th>Mobiliado</th>\n",
              "      <th>Condominio</th>\n",
              "      <th>Aluguel</th>\n",
              "      <th>IPTU</th>\n",
              "      <th>Seg Incendio</th>\n",
              "      <th>total (R$)</th>\n",
              "    </tr>\n",
              "  </thead>\n",
              "  <tbody>\n",
              "    <tr>\n",
              "      <th>0</th>\n",
              "      <td>São Paulo</td>\n",
              "      <td>70</td>\n",
              "      <td>2</td>\n",
              "      <td>1</td>\n",
              "      <td>1</td>\n",
              "      <td>7</td>\n",
              "      <td>acept</td>\n",
              "      <td>furnished</td>\n",
              "      <td>2065</td>\n",
              "      <td>3300</td>\n",
              "      <td>211</td>\n",
              "      <td>42</td>\n",
              "      <td>5618</td>\n",
              "    </tr>\n",
              "    <tr>\n",
              "      <th>1</th>\n",
              "      <td>São Paulo</td>\n",
              "      <td>320</td>\n",
              "      <td>4</td>\n",
              "      <td>4</td>\n",
              "      <td>0</td>\n",
              "      <td>20</td>\n",
              "      <td>acept</td>\n",
              "      <td>not furnished</td>\n",
              "      <td>1200</td>\n",
              "      <td>4960</td>\n",
              "      <td>1750</td>\n",
              "      <td>63</td>\n",
              "      <td>7973</td>\n",
              "    </tr>\n",
              "  </tbody>\n",
              "</table>\n",
              "</div>"
            ],
            "text/plain": [
              "      Cidade  area  Quartos  Banheiros  ...  Aluguel  IPTU Seg Incendio total (R$)\n",
              "0  São Paulo    70        2          1  ...     3300   211           42       5618\n",
              "1  São Paulo   320        4          4  ...     4960  1750           63       7973\n",
              "\n",
              "[2 rows x 13 columns]"
            ]
          },
          "metadata": {},
          "execution_count": 106
        }
      ]
    },
    {
      "cell_type": "code",
      "metadata": {
        "colab": {
          "base_uri": "https://localhost:8080/",
          "height": 112
        },
        "id": "IOsvmH7s3epb",
        "outputId": "ae681afa-7079-41ea-b64a-72e94986028e"
      },
      "source": [
        "df.tail(2)"
      ],
      "execution_count": 107,
      "outputs": [
        {
          "output_type": "execute_result",
          "data": {
            "text/html": [
              "<div>\n",
              "<style scoped>\n",
              "    .dataframe tbody tr th:only-of-type {\n",
              "        vertical-align: middle;\n",
              "    }\n",
              "\n",
              "    .dataframe tbody tr th {\n",
              "        vertical-align: top;\n",
              "    }\n",
              "\n",
              "    .dataframe thead th {\n",
              "        text-align: right;\n",
              "    }\n",
              "</style>\n",
              "<table border=\"1\" class=\"dataframe\">\n",
              "  <thead>\n",
              "    <tr style=\"text-align: right;\">\n",
              "      <th></th>\n",
              "      <th>Cidade</th>\n",
              "      <th>area</th>\n",
              "      <th>Quartos</th>\n",
              "      <th>Banheiros</th>\n",
              "      <th>VagasEst</th>\n",
              "      <th>Andar</th>\n",
              "      <th>Pets</th>\n",
              "      <th>Mobiliado</th>\n",
              "      <th>Condominio</th>\n",
              "      <th>Aluguel</th>\n",
              "      <th>IPTU</th>\n",
              "      <th>Seg Incendio</th>\n",
              "      <th>total (R$)</th>\n",
              "    </tr>\n",
              "  </thead>\n",
              "  <tbody>\n",
              "    <tr>\n",
              "      <th>10690</th>\n",
              "      <td>Rio de Janeiro</td>\n",
              "      <td>120</td>\n",
              "      <td>2</td>\n",
              "      <td>2</td>\n",
              "      <td>2</td>\n",
              "      <td>8</td>\n",
              "      <td>acept</td>\n",
              "      <td>furnished</td>\n",
              "      <td>1585</td>\n",
              "      <td>12000</td>\n",
              "      <td>279</td>\n",
              "      <td>155</td>\n",
              "      <td>14020</td>\n",
              "    </tr>\n",
              "    <tr>\n",
              "      <th>10691</th>\n",
              "      <td>São Paulo</td>\n",
              "      <td>80</td>\n",
              "      <td>2</td>\n",
              "      <td>1</td>\n",
              "      <td>0</td>\n",
              "      <td>-</td>\n",
              "      <td>acept</td>\n",
              "      <td>not furnished</td>\n",
              "      <td>0</td>\n",
              "      <td>1400</td>\n",
              "      <td>165</td>\n",
              "      <td>22</td>\n",
              "      <td>1587</td>\n",
              "    </tr>\n",
              "  </tbody>\n",
              "</table>\n",
              "</div>"
            ],
            "text/plain": [
              "               Cidade  area  Quartos  ...  IPTU  Seg Incendio total (R$)\n",
              "10690  Rio de Janeiro   120        2  ...   279           155      14020\n",
              "10691       São Paulo    80        2  ...   165            22       1587\n",
              "\n",
              "[2 rows x 13 columns]"
            ]
          },
          "metadata": {},
          "execution_count": 107
        }
      ]
    },
    {
      "cell_type": "markdown",
      "metadata": {
        "id": "DoKQk6kb2Xbm"
      },
      "source": [
        "**Realizando algumas análises**"
      ]
    },
    {
      "cell_type": "code",
      "metadata": {
        "colab": {
          "base_uri": "https://localhost:8080/",
          "height": 300
        },
        "id": "2Vfb_sew2es2",
        "outputId": "313f1f35-ed5b-49e9-a3ea-7e5c3bb2859b"
      },
      "source": [
        "#Informações estatíticas do meu dataset\n",
        "df.describe()"
      ],
      "execution_count": 108,
      "outputs": [
        {
          "output_type": "execute_result",
          "data": {
            "text/html": [
              "<div>\n",
              "<style scoped>\n",
              "    .dataframe tbody tr th:only-of-type {\n",
              "        vertical-align: middle;\n",
              "    }\n",
              "\n",
              "    .dataframe tbody tr th {\n",
              "        vertical-align: top;\n",
              "    }\n",
              "\n",
              "    .dataframe thead th {\n",
              "        text-align: right;\n",
              "    }\n",
              "</style>\n",
              "<table border=\"1\" class=\"dataframe\">\n",
              "  <thead>\n",
              "    <tr style=\"text-align: right;\">\n",
              "      <th></th>\n",
              "      <th>area</th>\n",
              "      <th>Quartos</th>\n",
              "      <th>Banheiros</th>\n",
              "      <th>VagasEst</th>\n",
              "      <th>Condominio</th>\n",
              "      <th>Aluguel</th>\n",
              "      <th>IPTU</th>\n",
              "      <th>Seg Incendio</th>\n",
              "      <th>total (R$)</th>\n",
              "    </tr>\n",
              "  </thead>\n",
              "  <tbody>\n",
              "    <tr>\n",
              "      <th>count</th>\n",
              "      <td>10692.000000</td>\n",
              "      <td>10692.000000</td>\n",
              "      <td>10692.000000</td>\n",
              "      <td>10692.000000</td>\n",
              "      <td>1.069200e+04</td>\n",
              "      <td>10692.000000</td>\n",
              "      <td>10692.000000</td>\n",
              "      <td>10692.000000</td>\n",
              "      <td>1.069200e+04</td>\n",
              "    </tr>\n",
              "    <tr>\n",
              "      <th>mean</th>\n",
              "      <td>149.217920</td>\n",
              "      <td>2.506079</td>\n",
              "      <td>2.236813</td>\n",
              "      <td>1.609147</td>\n",
              "      <td>1.174022e+03</td>\n",
              "      <td>3896.247194</td>\n",
              "      <td>366.704358</td>\n",
              "      <td>53.300879</td>\n",
              "      <td>5.490487e+03</td>\n",
              "    </tr>\n",
              "    <tr>\n",
              "      <th>std</th>\n",
              "      <td>537.016942</td>\n",
              "      <td>1.171266</td>\n",
              "      <td>1.407198</td>\n",
              "      <td>1.589521</td>\n",
              "      <td>1.559231e+04</td>\n",
              "      <td>3408.545518</td>\n",
              "      <td>3107.832321</td>\n",
              "      <td>47.768031</td>\n",
              "      <td>1.648473e+04</td>\n",
              "    </tr>\n",
              "    <tr>\n",
              "      <th>min</th>\n",
              "      <td>11.000000</td>\n",
              "      <td>1.000000</td>\n",
              "      <td>1.000000</td>\n",
              "      <td>0.000000</td>\n",
              "      <td>0.000000e+00</td>\n",
              "      <td>450.000000</td>\n",
              "      <td>0.000000</td>\n",
              "      <td>3.000000</td>\n",
              "      <td>4.990000e+02</td>\n",
              "    </tr>\n",
              "    <tr>\n",
              "      <th>25%</th>\n",
              "      <td>56.000000</td>\n",
              "      <td>2.000000</td>\n",
              "      <td>1.000000</td>\n",
              "      <td>0.000000</td>\n",
              "      <td>1.700000e+02</td>\n",
              "      <td>1530.000000</td>\n",
              "      <td>38.000000</td>\n",
              "      <td>21.000000</td>\n",
              "      <td>2.061750e+03</td>\n",
              "    </tr>\n",
              "    <tr>\n",
              "      <th>50%</th>\n",
              "      <td>90.000000</td>\n",
              "      <td>2.000000</td>\n",
              "      <td>2.000000</td>\n",
              "      <td>1.000000</td>\n",
              "      <td>5.600000e+02</td>\n",
              "      <td>2661.000000</td>\n",
              "      <td>125.000000</td>\n",
              "      <td>36.000000</td>\n",
              "      <td>3.581500e+03</td>\n",
              "    </tr>\n",
              "    <tr>\n",
              "      <th>75%</th>\n",
              "      <td>182.000000</td>\n",
              "      <td>3.000000</td>\n",
              "      <td>3.000000</td>\n",
              "      <td>2.000000</td>\n",
              "      <td>1.237500e+03</td>\n",
              "      <td>5000.000000</td>\n",
              "      <td>375.000000</td>\n",
              "      <td>68.000000</td>\n",
              "      <td>6.768000e+03</td>\n",
              "    </tr>\n",
              "    <tr>\n",
              "      <th>max</th>\n",
              "      <td>46335.000000</td>\n",
              "      <td>13.000000</td>\n",
              "      <td>10.000000</td>\n",
              "      <td>12.000000</td>\n",
              "      <td>1.117000e+06</td>\n",
              "      <td>45000.000000</td>\n",
              "      <td>313700.000000</td>\n",
              "      <td>677.000000</td>\n",
              "      <td>1.120000e+06</td>\n",
              "    </tr>\n",
              "  </tbody>\n",
              "</table>\n",
              "</div>"
            ],
            "text/plain": [
              "               area       Quartos  ...  Seg Incendio    total (R$)\n",
              "count  10692.000000  10692.000000  ...  10692.000000  1.069200e+04\n",
              "mean     149.217920      2.506079  ...     53.300879  5.490487e+03\n",
              "std      537.016942      1.171266  ...     47.768031  1.648473e+04\n",
              "min       11.000000      1.000000  ...      3.000000  4.990000e+02\n",
              "25%       56.000000      2.000000  ...     21.000000  2.061750e+03\n",
              "50%       90.000000      2.000000  ...     36.000000  3.581500e+03\n",
              "75%      182.000000      3.000000  ...     68.000000  6.768000e+03\n",
              "max    46335.000000     13.000000  ...    677.000000  1.120000e+06\n",
              "\n",
              "[8 rows x 9 columns]"
            ]
          },
          "metadata": {},
          "execution_count": 108
        }
      ]
    },
    {
      "cell_type": "code",
      "metadata": {
        "colab": {
          "base_uri": "https://localhost:8080/",
          "height": 0
        },
        "id": "3drC9KRN4lzt",
        "outputId": "d92d90b5-881e-4b6c-fe6a-9b6b81f47e92"
      },
      "source": [
        "#Conhecendo a minha base de dados\n",
        "df[\"Cidade\"].unique()"
      ],
      "execution_count": 109,
      "outputs": [
        {
          "output_type": "execute_result",
          "data": {
            "text/plain": [
              "array(['São Paulo', 'Porto Alegre', 'Rio de Janeiro', 'Campinas',\n",
              "       'Belo Horizonte'], dtype=object)"
            ]
          },
          "metadata": {},
          "execution_count": 109
        }
      ]
    },
    {
      "cell_type": "code",
      "metadata": {
        "id": "1OTNDNzM5nZ2"
      },
      "source": [
        "#Fatiando os dados\n",
        "SaoPaulo = df.loc[df[\"Cidade\"] == \"São Paulo\"]\n",
        "PortoAlegre = df.loc[df[\"Cidade\"] == \"Porto Alegre\"]\n",
        "RioJaneiro = df.loc[df[\"Cidade\"] == \"Rio de Janeiro\"]\n",
        "Campinas = df.loc[df[\"Cidade\"] == \"Campinas\"]\n",
        "BeloHorizonte = df.loc[df[\"Cidade\"] == \"Belo Horizonte\"]"
      ],
      "execution_count": 110,
      "outputs": []
    },
    {
      "cell_type": "code",
      "metadata": {
        "colab": {
          "base_uri": "https://localhost:8080/",
          "height": 0
        },
        "id": "38-RQj_L7pWj",
        "outputId": "e38df934-840f-41ba-f309-082e42baf82e"
      },
      "source": [
        "BeloHorizonte.head(1)\n",
        "BeloHorizonte[\"Cidade\"].unique()"
      ],
      "execution_count": 111,
      "outputs": [
        {
          "output_type": "execute_result",
          "data": {
            "text/plain": [
              "array(['Belo Horizonte'], dtype=object)"
            ]
          },
          "metadata": {},
          "execution_count": 111
        }
      ]
    },
    {
      "cell_type": "code",
      "metadata": {
        "colab": {
          "base_uri": "https://localhost:8080/",
          "height": 0
        },
        "id": "ALhT348A8bg4",
        "outputId": "603bfa5c-8d8a-4dcd-c6a1-11cffad61899"
      },
      "source": [
        "#verificando qual cidade tem mais ofertas de aluguel - análise simples sem considerar tamanho da cidade, população e etc\n",
        "df.groupby(\"Cidade\")[\"Cidade\"].count()"
      ],
      "execution_count": 112,
      "outputs": [
        {
          "output_type": "execute_result",
          "data": {
            "text/plain": [
              "Cidade\n",
              "Belo Horizonte    1258\n",
              "Campinas           853\n",
              "Porto Alegre      1193\n",
              "Rio de Janeiro    1501\n",
              "São Paulo         5887\n",
              "Name: Cidade, dtype: int64"
            ]
          },
          "metadata": {},
          "execution_count": 112
        }
      ]
    },
    {
      "cell_type": "code",
      "metadata": {
        "colab": {
          "base_uri": "https://localhost:8080/",
          "height": 264
        },
        "id": "XVrbro_r93Ga",
        "outputId": "3760319b-7f5a-4895-aaae-2693521f682a"
      },
      "source": [
        "#São Paulo e Rio de Janeiro tem o maior número de imóveis para alugar. Mostrando a mesma informação em um gráfico\n",
        "df.groupby(\"Cidade\")[\"Cidade\"].count().plot.pie(title=\"Número de Imóveis por Cidade\", autopct='%1.1f%%');"
      ],
      "execution_count": 114,
      "outputs": [
        {
          "output_type": "display_data",
          "data": {
            "image/png": "[encoded data removed]",
            "text/plain": [
              "<Figure size 432x288 with 1 Axes>"
            ]
          },
          "metadata": {}
        }
      ]
    },
    {
      "cell_type": "code",
      "metadata": {
        "colab": {
          "base_uri": "https://localhost:8080/",
          "height": 0
        },
        "id": "rsrV3IV3J2Wr",
        "outputId": "a6064ab5-571d-4944-d1cd-8a84491198e6"
      },
      "source": [
        "#verificando a média do valor total de aluguel por cidade\n",
        "df.groupby(\"Cidade\")[\"total (R$)\"].mean()"
      ],
      "execution_count": 115,
      "outputs": [
        {
          "output_type": "execute_result",
          "data": {
            "text/plain": [
              "Cidade\n",
              "Belo Horizonte    6315.242448\n",
              "Campinas          3173.276671\n",
              "Porto Alegre      2989.782900\n",
              "Rio de Janeiro    4611.684877\n",
              "São Paulo         6380.831833\n",
              "Name: total (R$), dtype: float64"
            ]
          },
          "metadata": {},
          "execution_count": 115
        }
      ]
    },
    {
      "cell_type": "code",
      "metadata": {
        "colab": {
          "base_uri": "https://localhost:8080/",
          "height": 432
        },
        "id": "E02pdg_MKQ-g",
        "outputId": "a19d36e7-5f17-4a78-dd23-f76ea5681d7f"
      },
      "source": [
        "#verificando graficamente a média do valor total de aluguel por cidade, sem considerar as características dos imóveis\n",
        "plt.style.use(\"seaborn\")\n",
        "df.groupby(\"Cidade\")[\"total (R$)\"].mean().plot.bar(title=\"Valor total médio de aluguel por cidade\", color=\"green\")\n",
        "plt.ylabel(\"Valor médio\");"
      ],
      "execution_count": 116,
      "outputs": [
        {
          "output_type": "display_data",
          "data": {
            "image/png": "[encoded data removed]",
            "text/plain": [
              "<Figure size 576x396 with 1 Axes>"
            ]
          },
          "metadata": {}
        }
      ]
    },
    {
      "cell_type": "code",
      "metadata": {
        "colab": {
          "base_uri": "https://localhost:8080/",
          "height": 0
        },
        "id": "GUSrkONdvo0M",
        "outputId": "fa989c20-cce4-4f2f-8858-01b398a191be"
      },
      "source": [
        "#comparando a aceitação de pets entre as cidades\n",
        "df.groupby(\"Cidade\")[\"Pets\"].value_counts()"
      ],
      "execution_count": 117,
      "outputs": [
        {
          "output_type": "execute_result",
          "data": {
            "text/plain": [
              "Cidade          Pets     \n",
              "Belo Horizonte  acept         931\n",
              "                not acept     327\n",
              "Campinas        acept         693\n",
              "                not acept     160\n",
              "Porto Alegre    acept        1005\n",
              "                not acept     188\n",
              "Rio de Janeiro  acept        1205\n",
              "                not acept     296\n",
              "São Paulo       acept        4482\n",
              "                not acept    1405\n",
              "Name: Pets, dtype: int64"
            ]
          },
          "metadata": {},
          "execution_count": 117
        }
      ]
    },
    {
      "cell_type": "code",
      "metadata": {
        "colab": {
          "base_uri": "https://localhost:8080/",
          "height": 345
        },
        "id": "E0G4OxOxP7vi",
        "outputId": "bb7f42a4-5e39-4c64-a94f-680b7a4cb017"
      },
      "source": [
        "#comparando graficamente\n",
        "plt.style.use(\"seaborn\")\n",
        "plt.subplot(331)\n",
        "SaoPaulo.groupby(\"Cidade\")[\"Pets\"].value_counts().plot.pie(title=\"Aceitação Pets\", autopct='%1.1f%%');\n",
        "plt.subplot(333)\n",
        "PortoAlegre.groupby(\"Cidade\")[\"Pets\"].value_counts().plot.pie(title=\"Aceitação Pets\", autopct='%1.1f%%');\n",
        "plt.subplot(334)\n",
        "BeloHorizonte.groupby(\"Cidade\")[\"Pets\"].value_counts().plot.pie(title=\"Aceitação de Pets\", autopct='%1.1f%%');\n",
        "plt.subplot(336)\n",
        "RioJaneiro.groupby(\"Cidade\")[\"Pets\"].value_counts().plot.pie(title=\"Aceitação Pets\", autopct='%1.1f%%');\n",
        "plt.subplot(338)\n",
        "Campinas.groupby(\"Cidade\")[\"Pets\"].value_counts().plot.pie(title=\"Aceitação Pets\", autopct='%1.1f%%');"
      ],
      "execution_count": 118,
      "outputs": [
        {
          "output_type": "display_data",
          "data": {
            "image/png": "[encoded data removed]",
            "text/plain": [
              "<Figure size 576x396 with 5 Axes>"
            ]
          },
          "metadata": {}
        }
      ]
    },
    {
      "cell_type": "code",
      "metadata": {
        "colab": {
          "base_uri": "https://localhost:8080/",
          "height": 0
        },
        "id": "EYBNjPfAH2Xw",
        "outputId": "963329b0-9b3c-482e-d4a0-10c50f05de4e"
      },
      "source": [
        "#apuração do valor médio de IPTU\n",
        "df.groupby(\"Cidade\")[\"IPTU\"].mean()"
      ],
      "execution_count": 119,
      "outputs": [
        {
          "output_type": "execute_result",
          "data": {
            "text/plain": [
              "Cidade\n",
              "Belo Horizonte    272.782194\n",
              "Campinas          147.657679\n",
              "Porto Alegre      124.021794\n",
              "Rio de Janeiro    256.853431\n",
              "São Paulo         495.701716\n",
              "Name: IPTU, dtype: float64"
            ]
          },
          "metadata": {},
          "execution_count": 119
        }
      ]
    },
    {
      "cell_type": "code",
      "metadata": {
        "colab": {
          "base_uri": "https://localhost:8080/",
          "height": 0
        },
        "id": "bwQKXnUFJZP_",
        "outputId": "bb1546fd-ba52-411c-e5ba-312e74672029"
      },
      "source": [
        "#apuração do valor médio de Condomínio\n",
        "df.groupby(\"Cidade\")[\"Condominio\"].mean()"
      ],
      "execution_count": 120,
      "outputs": [
        {
          "output_type": "execute_result",
          "data": {
            "text/plain": [
              "Cidade\n",
              "Belo Horizonte    2324.197138\n",
              "Campinas           628.922626\n",
              "Porto Alegre       491.618609\n",
              "Rio de Janeiro    1079.432378\n",
              "São Paulo         1169.627994\n",
              "Name: Condominio, dtype: float64"
            ]
          },
          "metadata": {},
          "execution_count": 120
        }
      ]
    },
    {
      "cell_type": "code",
      "metadata": {
        "colab": {
          "base_uri": "https://localhost:8080/",
          "height": 1365
        },
        "id": "-vCb7ashJ7uW",
        "outputId": "9dd5a743-0be6-4eca-dfd8-28269c9ecfc6"
      },
      "source": [
        "#verificando a quantidade de imóveis por número de quartos\n",
        "QTdImoveisNumQuartos = df.groupby([\"Cidade\",\"Quartos\"])[\"Quartos\"].count().reset_index(name='QTD Imóveis')\n",
        "QTdImoveisNumQuartos"
      ],
      "execution_count": 124,
      "outputs": [
        {
          "output_type": "execute_result",
          "data": {
            "text/html": [
              "<div>\n",
              "<style scoped>\n",
              "    .dataframe tbody tr th:only-of-type {\n",
              "        vertical-align: middle;\n",
              "    }\n",
              "\n",
              "    .dataframe tbody tr th {\n",
              "        vertical-align: top;\n",
              "    }\n",
              "\n",
              "    .dataframe thead th {\n",
              "        text-align: right;\n",
              "    }\n",
              "</style>\n",
              "<table border=\"1\" class=\"dataframe\">\n",
              "  <thead>\n",
              "    <tr style=\"text-align: right;\">\n",
              "      <th></th>\n",
              "      <th>Cidade</th>\n",
              "      <th>Quartos</th>\n",
              "      <th>QTD Imóveis</th>\n",
              "    </tr>\n",
              "  </thead>\n",
              "  <tbody>\n",
              "    <tr>\n",
              "      <th>0</th>\n",
              "      <td>Belo Horizonte</td>\n",
              "      <td>1</td>\n",
              "      <td>150</td>\n",
              "    </tr>\n",
              "    <tr>\n",
              "      <th>1</th>\n",
              "      <td>Belo Horizonte</td>\n",
              "      <td>2</td>\n",
              "      <td>286</td>\n",
              "    </tr>\n",
              "    <tr>\n",
              "      <th>2</th>\n",
              "      <td>Belo Horizonte</td>\n",
              "      <td>3</td>\n",
              "      <td>389</td>\n",
              "    </tr>\n",
              "    <tr>\n",
              "      <th>3</th>\n",
              "      <td>Belo Horizonte</td>\n",
              "      <td>4</td>\n",
              "      <td>317</td>\n",
              "    </tr>\n",
              "    <tr>\n",
              "      <th>4</th>\n",
              "      <td>Belo Horizonte</td>\n",
              "      <td>5</td>\n",
              "      <td>78</td>\n",
              "    </tr>\n",
              "    <tr>\n",
              "      <th>5</th>\n",
              "      <td>Belo Horizonte</td>\n",
              "      <td>6</td>\n",
              "      <td>20</td>\n",
              "    </tr>\n",
              "    <tr>\n",
              "      <th>6</th>\n",
              "      <td>Belo Horizonte</td>\n",
              "      <td>7</td>\n",
              "      <td>13</td>\n",
              "    </tr>\n",
              "    <tr>\n",
              "      <th>7</th>\n",
              "      <td>Belo Horizonte</td>\n",
              "      <td>8</td>\n",
              "      <td>4</td>\n",
              "    </tr>\n",
              "    <tr>\n",
              "      <th>8</th>\n",
              "      <td>Belo Horizonte</td>\n",
              "      <td>10</td>\n",
              "      <td>1</td>\n",
              "    </tr>\n",
              "    <tr>\n",
              "      <th>9</th>\n",
              "      <td>Campinas</td>\n",
              "      <td>1</td>\n",
              "      <td>218</td>\n",
              "    </tr>\n",
              "    <tr>\n",
              "      <th>10</th>\n",
              "      <td>Campinas</td>\n",
              "      <td>2</td>\n",
              "      <td>253</td>\n",
              "    </tr>\n",
              "    <tr>\n",
              "      <th>11</th>\n",
              "      <td>Campinas</td>\n",
              "      <td>3</td>\n",
              "      <td>271</td>\n",
              "    </tr>\n",
              "    <tr>\n",
              "      <th>12</th>\n",
              "      <td>Campinas</td>\n",
              "      <td>4</td>\n",
              "      <td>91</td>\n",
              "    </tr>\n",
              "    <tr>\n",
              "      <th>13</th>\n",
              "      <td>Campinas</td>\n",
              "      <td>5</td>\n",
              "      <td>14</td>\n",
              "    </tr>\n",
              "    <tr>\n",
              "      <th>14</th>\n",
              "      <td>Campinas</td>\n",
              "      <td>6</td>\n",
              "      <td>4</td>\n",
              "    </tr>\n",
              "    <tr>\n",
              "      <th>15</th>\n",
              "      <td>Campinas</td>\n",
              "      <td>7</td>\n",
              "      <td>2</td>\n",
              "    </tr>\n",
              "    <tr>\n",
              "      <th>16</th>\n",
              "      <td>Porto Alegre</td>\n",
              "      <td>1</td>\n",
              "      <td>374</td>\n",
              "    </tr>\n",
              "    <tr>\n",
              "      <th>17</th>\n",
              "      <td>Porto Alegre</td>\n",
              "      <td>2</td>\n",
              "      <td>424</td>\n",
              "    </tr>\n",
              "    <tr>\n",
              "      <th>18</th>\n",
              "      <td>Porto Alegre</td>\n",
              "      <td>3</td>\n",
              "      <td>299</td>\n",
              "    </tr>\n",
              "    <tr>\n",
              "      <th>19</th>\n",
              "      <td>Porto Alegre</td>\n",
              "      <td>4</td>\n",
              "      <td>62</td>\n",
              "    </tr>\n",
              "    <tr>\n",
              "      <th>20</th>\n",
              "      <td>Porto Alegre</td>\n",
              "      <td>5</td>\n",
              "      <td>22</td>\n",
              "    </tr>\n",
              "    <tr>\n",
              "      <th>21</th>\n",
              "      <td>Porto Alegre</td>\n",
              "      <td>6</td>\n",
              "      <td>9</td>\n",
              "    </tr>\n",
              "    <tr>\n",
              "      <th>22</th>\n",
              "      <td>Porto Alegre</td>\n",
              "      <td>7</td>\n",
              "      <td>1</td>\n",
              "    </tr>\n",
              "    <tr>\n",
              "      <th>23</th>\n",
              "      <td>Porto Alegre</td>\n",
              "      <td>8</td>\n",
              "      <td>2</td>\n",
              "    </tr>\n",
              "    <tr>\n",
              "      <th>24</th>\n",
              "      <td>Rio de Janeiro</td>\n",
              "      <td>1</td>\n",
              "      <td>404</td>\n",
              "    </tr>\n",
              "    <tr>\n",
              "      <th>25</th>\n",
              "      <td>Rio de Janeiro</td>\n",
              "      <td>2</td>\n",
              "      <td>522</td>\n",
              "    </tr>\n",
              "    <tr>\n",
              "      <th>26</th>\n",
              "      <td>Rio de Janeiro</td>\n",
              "      <td>3</td>\n",
              "      <td>422</td>\n",
              "    </tr>\n",
              "    <tr>\n",
              "      <th>27</th>\n",
              "      <td>Rio de Janeiro</td>\n",
              "      <td>4</td>\n",
              "      <td>128</td>\n",
              "    </tr>\n",
              "    <tr>\n",
              "      <th>28</th>\n",
              "      <td>Rio de Janeiro</td>\n",
              "      <td>5</td>\n",
              "      <td>18</td>\n",
              "    </tr>\n",
              "    <tr>\n",
              "      <th>29</th>\n",
              "      <td>Rio de Janeiro</td>\n",
              "      <td>6</td>\n",
              "      <td>3</td>\n",
              "    </tr>\n",
              "    <tr>\n",
              "      <th>30</th>\n",
              "      <td>Rio de Janeiro</td>\n",
              "      <td>7</td>\n",
              "      <td>3</td>\n",
              "    </tr>\n",
              "    <tr>\n",
              "      <th>31</th>\n",
              "      <td>Rio de Janeiro</td>\n",
              "      <td>13</td>\n",
              "      <td>1</td>\n",
              "    </tr>\n",
              "    <tr>\n",
              "      <th>32</th>\n",
              "      <td>São Paulo</td>\n",
              "      <td>1</td>\n",
              "      <td>1308</td>\n",
              "    </tr>\n",
              "    <tr>\n",
              "      <th>33</th>\n",
              "      <td>São Paulo</td>\n",
              "      <td>2</td>\n",
              "      <td>1490</td>\n",
              "    </tr>\n",
              "    <tr>\n",
              "      <th>34</th>\n",
              "      <td>São Paulo</td>\n",
              "      <td>3</td>\n",
              "      <td>1888</td>\n",
              "    </tr>\n",
              "    <tr>\n",
              "      <th>35</th>\n",
              "      <td>São Paulo</td>\n",
              "      <td>4</td>\n",
              "      <td>988</td>\n",
              "    </tr>\n",
              "    <tr>\n",
              "      <th>36</th>\n",
              "      <td>São Paulo</td>\n",
              "      <td>5</td>\n",
              "      <td>156</td>\n",
              "    </tr>\n",
              "    <tr>\n",
              "      <th>37</th>\n",
              "      <td>São Paulo</td>\n",
              "      <td>6</td>\n",
              "      <td>32</td>\n",
              "    </tr>\n",
              "    <tr>\n",
              "      <th>38</th>\n",
              "      <td>São Paulo</td>\n",
              "      <td>7</td>\n",
              "      <td>17</td>\n",
              "    </tr>\n",
              "    <tr>\n",
              "      <th>39</th>\n",
              "      <td>São Paulo</td>\n",
              "      <td>8</td>\n",
              "      <td>5</td>\n",
              "    </tr>\n",
              "    <tr>\n",
              "      <th>40</th>\n",
              "      <td>São Paulo</td>\n",
              "      <td>9</td>\n",
              "      <td>1</td>\n",
              "    </tr>\n",
              "    <tr>\n",
              "      <th>41</th>\n",
              "      <td>São Paulo</td>\n",
              "      <td>10</td>\n",
              "      <td>2</td>\n",
              "    </tr>\n",
              "  </tbody>\n",
              "</table>\n",
              "</div>"
            ],
            "text/plain": [
              "            Cidade  Quartos  QTD Imóveis\n",
              "0   Belo Horizonte        1          150\n",
              "1   Belo Horizonte        2          286\n",
              "2   Belo Horizonte        3          389\n",
              "3   Belo Horizonte        4          317\n",
              "4   Belo Horizonte        5           78\n",
              "5   Belo Horizonte        6           20\n",
              "6   Belo Horizonte        7           13\n",
              "7   Belo Horizonte        8            4\n",
              "8   Belo Horizonte       10            1\n",
              "9         Campinas        1          218\n",
              "10        Campinas        2          253\n",
              "11        Campinas        3          271\n",
              "12        Campinas        4           91\n",
              "13        Campinas        5           14\n",
              "14        Campinas        6            4\n",
              "15        Campinas        7            2\n",
              "16    Porto Alegre        1          374\n",
              "17    Porto Alegre        2          424\n",
              "18    Porto Alegre        3          299\n",
              "19    Porto Alegre        4           62\n",
              "20    Porto Alegre        5           22\n",
              "21    Porto Alegre        6            9\n",
              "22    Porto Alegre        7            1\n",
              "23    Porto Alegre        8            2\n",
              "24  Rio de Janeiro        1          404\n",
              "25  Rio de Janeiro        2          522\n",
              "26  Rio de Janeiro        3          422\n",
              "27  Rio de Janeiro        4          128\n",
              "28  Rio de Janeiro        5           18\n",
              "29  Rio de Janeiro        6            3\n",
              "30  Rio de Janeiro        7            3\n",
              "31  Rio de Janeiro       13            1\n",
              "32       São Paulo        1         1308\n",
              "33       São Paulo        2         1490\n",
              "34       São Paulo        3         1888\n",
              "35       São Paulo        4          988\n",
              "36       São Paulo        5          156\n",
              "37       São Paulo        6           32\n",
              "38       São Paulo        7           17\n",
              "39       São Paulo        8            5\n",
              "40       São Paulo        9            1\n",
              "41       São Paulo       10            2"
            ]
          },
          "metadata": {},
          "execution_count": 124
        }
      ]
    },
    {
      "cell_type": "code",
      "metadata": {
        "colab": {
          "base_uri": "https://localhost:8080/",
          "height": 676
        },
        "id": "eA1HEWL8pq8r",
        "outputId": "02738c13-5d01-4dd7-8011-e5ea2366a78a"
      },
      "source": [
        "#verificando a quantidade de imoveis com 4 quartos ou menos\n",
        "QTdImoveisNumQuartos.loc[QTdImoveisNumQuartos[\"Quartos\"] <= 4]"
      ],
      "execution_count": 131,
      "outputs": [
        {
          "output_type": "execute_result",
          "data": {
            "text/html": [
              "<div>\n",
              "<style scoped>\n",
              "    .dataframe tbody tr th:only-of-type {\n",
              "        vertical-align: middle;\n",
              "    }\n",
              "\n",
              "    .dataframe tbody tr th {\n",
              "        vertical-align: top;\n",
              "    }\n",
              "\n",
              "    .dataframe thead th {\n",
              "        text-align: right;\n",
              "    }\n",
              "</style>\n",
              "<table border=\"1\" class=\"dataframe\">\n",
              "  <thead>\n",
              "    <tr style=\"text-align: right;\">\n",
              "      <th></th>\n",
              "      <th>Cidade</th>\n",
              "      <th>Quartos</th>\n",
              "      <th>QTD Imóveis</th>\n",
              "    </tr>\n",
              "  </thead>\n",
              "  <tbody>\n",
              "    <tr>\n",
              "      <th>0</th>\n",
              "      <td>Belo Horizonte</td>\n",
              "      <td>1</td>\n",
              "      <td>150</td>\n",
              "    </tr>\n",
              "    <tr>\n",
              "      <th>1</th>\n",
              "      <td>Belo Horizonte</td>\n",
              "      <td>2</td>\n",
              "      <td>286</td>\n",
              "    </tr>\n",
              "    <tr>\n",
              "      <th>2</th>\n",
              "      <td>Belo Horizonte</td>\n",
              "      <td>3</td>\n",
              "      <td>389</td>\n",
              "    </tr>\n",
              "    <tr>\n",
              "      <th>3</th>\n",
              "      <td>Belo Horizonte</td>\n",
              "      <td>4</td>\n",
              "      <td>317</td>\n",
              "    </tr>\n",
              "    <tr>\n",
              "      <th>9</th>\n",
              "      <td>Campinas</td>\n",
              "      <td>1</td>\n",
              "      <td>218</td>\n",
              "    </tr>\n",
              "    <tr>\n",
              "      <th>10</th>\n",
              "      <td>Campinas</td>\n",
              "      <td>2</td>\n",
              "      <td>253</td>\n",
              "    </tr>\n",
              "    <tr>\n",
              "      <th>11</th>\n",
              "      <td>Campinas</td>\n",
              "      <td>3</td>\n",
              "      <td>271</td>\n",
              "    </tr>\n",
              "    <tr>\n",
              "      <th>12</th>\n",
              "      <td>Campinas</td>\n",
              "      <td>4</td>\n",
              "      <td>91</td>\n",
              "    </tr>\n",
              "    <tr>\n",
              "      <th>16</th>\n",
              "      <td>Porto Alegre</td>\n",
              "      <td>1</td>\n",
              "      <td>374</td>\n",
              "    </tr>\n",
              "    <tr>\n",
              "      <th>17</th>\n",
              "      <td>Porto Alegre</td>\n",
              "      <td>2</td>\n",
              "      <td>424</td>\n",
              "    </tr>\n",
              "    <tr>\n",
              "      <th>18</th>\n",
              "      <td>Porto Alegre</td>\n",
              "      <td>3</td>\n",
              "      <td>299</td>\n",
              "    </tr>\n",
              "    <tr>\n",
              "      <th>19</th>\n",
              "      <td>Porto Alegre</td>\n",
              "      <td>4</td>\n",
              "      <td>62</td>\n",
              "    </tr>\n",
              "    <tr>\n",
              "      <th>24</th>\n",
              "      <td>Rio de Janeiro</td>\n",
              "      <td>1</td>\n",
              "      <td>404</td>\n",
              "    </tr>\n",
              "    <tr>\n",
              "      <th>25</th>\n",
              "      <td>Rio de Janeiro</td>\n",
              "      <td>2</td>\n",
              "      <td>522</td>\n",
              "    </tr>\n",
              "    <tr>\n",
              "      <th>26</th>\n",
              "      <td>Rio de Janeiro</td>\n",
              "      <td>3</td>\n",
              "      <td>422</td>\n",
              "    </tr>\n",
              "    <tr>\n",
              "      <th>27</th>\n",
              "      <td>Rio de Janeiro</td>\n",
              "      <td>4</td>\n",
              "      <td>128</td>\n",
              "    </tr>\n",
              "    <tr>\n",
              "      <th>32</th>\n",
              "      <td>São Paulo</td>\n",
              "      <td>1</td>\n",
              "      <td>1308</td>\n",
              "    </tr>\n",
              "    <tr>\n",
              "      <th>33</th>\n",
              "      <td>São Paulo</td>\n",
              "      <td>2</td>\n",
              "      <td>1490</td>\n",
              "    </tr>\n",
              "    <tr>\n",
              "      <th>34</th>\n",
              "      <td>São Paulo</td>\n",
              "      <td>3</td>\n",
              "      <td>1888</td>\n",
              "    </tr>\n",
              "    <tr>\n",
              "      <th>35</th>\n",
              "      <td>São Paulo</td>\n",
              "      <td>4</td>\n",
              "      <td>988</td>\n",
              "    </tr>\n",
              "  </tbody>\n",
              "</table>\n",
              "</div>"
            ],
            "text/plain": [
              "            Cidade  Quartos  QTD Imóveis\n",
              "0   Belo Horizonte        1          150\n",
              "1   Belo Horizonte        2          286\n",
              "2   Belo Horizonte        3          389\n",
              "3   Belo Horizonte        4          317\n",
              "9         Campinas        1          218\n",
              "10        Campinas        2          253\n",
              "11        Campinas        3          271\n",
              "12        Campinas        4           91\n",
              "16    Porto Alegre        1          374\n",
              "17    Porto Alegre        2          424\n",
              "18    Porto Alegre        3          299\n",
              "19    Porto Alegre        4           62\n",
              "24  Rio de Janeiro        1          404\n",
              "25  Rio de Janeiro        2          522\n",
              "26  Rio de Janeiro        3          422\n",
              "27  Rio de Janeiro        4          128\n",
              "32       São Paulo        1         1308\n",
              "33       São Paulo        2         1490\n",
              "34       São Paulo        3         1888\n",
              "35       São Paulo        4          988"
            ]
          },
          "metadata": {},
          "execution_count": 131
        }
      ]
    },
    {
      "cell_type": "code",
      "metadata": {
        "colab": {
          "base_uri": "https://localhost:8080/",
          "height": 0
        },
        "id": "hyKu5EwWqSr0",
        "outputId": "38291754-def2-4bce-8a21-4c0aae5205f2"
      },
      "source": [
        "#verificando a quantidade de imóveis com 4 dormitórios ou menos\n",
        "QTdImoveisNumQuartos.loc[QTdImoveisNumQuartos[\"Quartos\"] <= 4].sum()"
      ],
      "execution_count": 133,
      "outputs": [
        {
          "output_type": "execute_result",
          "data": {
            "text/plain": [
              "Cidade         Belo HorizonteBelo HorizonteBelo HorizonteBelo...\n",
              "Quartos                                                       50\n",
              "QTD Imóveis                                                10284\n",
              "dtype: object"
            ]
          },
          "metadata": {},
          "execution_count": 133
        }
      ]
    },
    {
      "cell_type": "code",
      "metadata": {
        "id": "XATC_ztsrJ7b"
      },
      "source": [
        "#criando um subdataset apenas com os imóveis com 4 dormitórios ou menos - obs.: 10284 imóveis de um total de 10692\n",
        "subdf = df.loc[df[\"Quartos\"] <= 4]"
      ],
      "execution_count": 134,
      "outputs": []
    },
    {
      "cell_type": "code",
      "metadata": {
        "colab": {
          "base_uri": "https://localhost:8080/",
          "height": 363
        },
        "id": "pui_ejcnhF2v",
        "outputId": "522f0013-8e37-4b4a-806c-c4ea2144cd08"
      },
      "source": [
        "subdf.sample(10)"
      ],
      "execution_count": 135,
      "outputs": [
        {
          "output_type": "execute_result",
          "data": {
            "text/html": [
              "<div>\n",
              "<style scoped>\n",
              "    .dataframe tbody tr th:only-of-type {\n",
              "        vertical-align: middle;\n",
              "    }\n",
              "\n",
              "    .dataframe tbody tr th {\n",
              "        vertical-align: top;\n",
              "    }\n",
              "\n",
              "    .dataframe thead th {\n",
              "        text-align: right;\n",
              "    }\n",
              "</style>\n",
              "<table border=\"1\" class=\"dataframe\">\n",
              "  <thead>\n",
              "    <tr style=\"text-align: right;\">\n",
              "      <th></th>\n",
              "      <th>Cidade</th>\n",
              "      <th>area</th>\n",
              "      <th>Quartos</th>\n",
              "      <th>Banheiros</th>\n",
              "      <th>VagasEst</th>\n",
              "      <th>Andar</th>\n",
              "      <th>Pets</th>\n",
              "      <th>Mobiliado</th>\n",
              "      <th>Condominio</th>\n",
              "      <th>Aluguel</th>\n",
              "      <th>IPTU</th>\n",
              "      <th>Seg Incendio</th>\n",
              "      <th>total (R$)</th>\n",
              "    </tr>\n",
              "  </thead>\n",
              "  <tbody>\n",
              "    <tr>\n",
              "      <th>3503</th>\n",
              "      <td>Campinas</td>\n",
              "      <td>47</td>\n",
              "      <td>1</td>\n",
              "      <td>1</td>\n",
              "      <td>1</td>\n",
              "      <td>18</td>\n",
              "      <td>acept</td>\n",
              "      <td>furnished</td>\n",
              "      <td>582</td>\n",
              "      <td>2700</td>\n",
              "      <td>135</td>\n",
              "      <td>35</td>\n",
              "      <td>3452</td>\n",
              "    </tr>\n",
              "    <tr>\n",
              "      <th>354</th>\n",
              "      <td>São Paulo</td>\n",
              "      <td>540</td>\n",
              "      <td>3</td>\n",
              "      <td>3</td>\n",
              "      <td>4</td>\n",
              "      <td>9</td>\n",
              "      <td>acept</td>\n",
              "      <td>not furnished</td>\n",
              "      <td>6200</td>\n",
              "      <td>15000</td>\n",
              "      <td>3500</td>\n",
              "      <td>191</td>\n",
              "      <td>24890</td>\n",
              "    </tr>\n",
              "    <tr>\n",
              "      <th>1383</th>\n",
              "      <td>São Paulo</td>\n",
              "      <td>170</td>\n",
              "      <td>3</td>\n",
              "      <td>2</td>\n",
              "      <td>4</td>\n",
              "      <td>6</td>\n",
              "      <td>acept</td>\n",
              "      <td>not furnished</td>\n",
              "      <td>3678</td>\n",
              "      <td>1500</td>\n",
              "      <td>1130</td>\n",
              "      <td>20</td>\n",
              "      <td>6328</td>\n",
              "    </tr>\n",
              "    <tr>\n",
              "      <th>7851</th>\n",
              "      <td>São Paulo</td>\n",
              "      <td>113</td>\n",
              "      <td>2</td>\n",
              "      <td>2</td>\n",
              "      <td>1</td>\n",
              "      <td>4</td>\n",
              "      <td>acept</td>\n",
              "      <td>not furnished</td>\n",
              "      <td>1000</td>\n",
              "      <td>3000</td>\n",
              "      <td>50</td>\n",
              "      <td>39</td>\n",
              "      <td>4089</td>\n",
              "    </tr>\n",
              "    <tr>\n",
              "      <th>5952</th>\n",
              "      <td>São Paulo</td>\n",
              "      <td>70</td>\n",
              "      <td>2</td>\n",
              "      <td>2</td>\n",
              "      <td>1</td>\n",
              "      <td>-</td>\n",
              "      <td>acept</td>\n",
              "      <td>not furnished</td>\n",
              "      <td>0</td>\n",
              "      <td>1650</td>\n",
              "      <td>102</td>\n",
              "      <td>25</td>\n",
              "      <td>1777</td>\n",
              "    </tr>\n",
              "    <tr>\n",
              "      <th>3127</th>\n",
              "      <td>São Paulo</td>\n",
              "      <td>70</td>\n",
              "      <td>1</td>\n",
              "      <td>1</td>\n",
              "      <td>0</td>\n",
              "      <td>-</td>\n",
              "      <td>acept</td>\n",
              "      <td>not furnished</td>\n",
              "      <td>0</td>\n",
              "      <td>1200</td>\n",
              "      <td>34</td>\n",
              "      <td>19</td>\n",
              "      <td>1253</td>\n",
              "    </tr>\n",
              "    <tr>\n",
              "      <th>4552</th>\n",
              "      <td>São Paulo</td>\n",
              "      <td>170</td>\n",
              "      <td>3</td>\n",
              "      <td>2</td>\n",
              "      <td>2</td>\n",
              "      <td>4</td>\n",
              "      <td>acept</td>\n",
              "      <td>furnished</td>\n",
              "      <td>1970</td>\n",
              "      <td>9000</td>\n",
              "      <td>900</td>\n",
              "      <td>115</td>\n",
              "      <td>11990</td>\n",
              "    </tr>\n",
              "    <tr>\n",
              "      <th>7070</th>\n",
              "      <td>Belo Horizonte</td>\n",
              "      <td>136</td>\n",
              "      <td>4</td>\n",
              "      <td>3</td>\n",
              "      <td>1</td>\n",
              "      <td>1</td>\n",
              "      <td>acept</td>\n",
              "      <td>not furnished</td>\n",
              "      <td>347</td>\n",
              "      <td>2300</td>\n",
              "      <td>72</td>\n",
              "      <td>31</td>\n",
              "      <td>2750</td>\n",
              "    </tr>\n",
              "    <tr>\n",
              "      <th>6601</th>\n",
              "      <td>São Paulo</td>\n",
              "      <td>216</td>\n",
              "      <td>4</td>\n",
              "      <td>4</td>\n",
              "      <td>4</td>\n",
              "      <td>9</td>\n",
              "      <td>acept</td>\n",
              "      <td>not furnished</td>\n",
              "      <td>1710</td>\n",
              "      <td>2800</td>\n",
              "      <td>686</td>\n",
              "      <td>36</td>\n",
              "      <td>5232</td>\n",
              "    </tr>\n",
              "    <tr>\n",
              "      <th>9953</th>\n",
              "      <td>Rio de Janeiro</td>\n",
              "      <td>20</td>\n",
              "      <td>1</td>\n",
              "      <td>1</td>\n",
              "      <td>0</td>\n",
              "      <td>5</td>\n",
              "      <td>acept</td>\n",
              "      <td>not furnished</td>\n",
              "      <td>450</td>\n",
              "      <td>500</td>\n",
              "      <td>63</td>\n",
              "      <td>7</td>\n",
              "      <td>1020</td>\n",
              "    </tr>\n",
              "  </tbody>\n",
              "</table>\n",
              "</div>"
            ],
            "text/plain": [
              "              Cidade  area  Quartos  ...  IPTU  Seg Incendio total (R$)\n",
              "3503        Campinas    47        1  ...   135            35       3452\n",
              "354        São Paulo   540        3  ...  3500           191      24890\n",
              "1383       São Paulo   170        3  ...  1130            20       6328\n",
              "7851       São Paulo   113        2  ...    50            39       4089\n",
              "5952       São Paulo    70        2  ...   102            25       1777\n",
              "3127       São Paulo    70        1  ...    34            19       1253\n",
              "4552       São Paulo   170        3  ...   900           115      11990\n",
              "7070  Belo Horizonte   136        4  ...    72            31       2750\n",
              "6601       São Paulo   216        4  ...   686            36       5232\n",
              "9953  Rio de Janeiro    20        1  ...    63             7       1020\n",
              "\n",
              "[10 rows x 13 columns]"
            ]
          },
          "metadata": {},
          "execution_count": 135
        }
      ]
    },
    {
      "cell_type": "code",
      "metadata": {
        "colab": {
          "base_uri": "https://localhost:8080/",
          "height": 0
        },
        "id": "CsjgQ7cbr9xU",
        "outputId": "2b1e894a-28f6-40cd-9ce4-395ccab7c008"
      },
      "source": [
        "subdf['total (R$)'].describe().apply(\"{0:.2f}\".format)"
      ],
      "execution_count": 136,
      "outputs": [
        {
          "output_type": "execute_result",
          "data": {
            "text/plain": [
              "count      10284.00\n",
              "mean        5281.67\n",
              "std        16597.88\n",
              "min          499.00\n",
              "25%         2021.00\n",
              "50%         3447.00\n",
              "75%         6381.00\n",
              "max      1120000.00\n",
              "Name: total (R$), dtype: object"
            ]
          },
          "metadata": {},
          "execution_count": 136
        }
      ]
    },
    {
      "cell_type": "code",
      "metadata": {
        "id": "NicVj05ah1GY",
        "colab": {
          "base_uri": "https://localhost:8080/",
          "height": 394
        },
        "outputId": "1d371885-f45e-4357-cdca-64e12fbc0846"
      },
      "source": [
        "#De acordo co o valor max do total de aluguel nota-se que valores muito discrepantes\n",
        "subdf.loc[subdf['total (R$)'] > 30000]"
      ],
      "execution_count": 137,
      "outputs": [
        {
          "output_type": "execute_result",
          "data": {
            "text/html": [
              "<div>\n",
              "<style scoped>\n",
              "    .dataframe tbody tr th:only-of-type {\n",
              "        vertical-align: middle;\n",
              "    }\n",
              "\n",
              "    .dataframe tbody tr th {\n",
              "        vertical-align: top;\n",
              "    }\n",
              "\n",
              "    .dataframe thead th {\n",
              "        text-align: right;\n",
              "    }\n",
              "</style>\n",
              "<table border=\"1\" class=\"dataframe\">\n",
              "  <thead>\n",
              "    <tr style=\"text-align: right;\">\n",
              "      <th></th>\n",
              "      <th>Cidade</th>\n",
              "      <th>area</th>\n",
              "      <th>Quartos</th>\n",
              "      <th>Banheiros</th>\n",
              "      <th>VagasEst</th>\n",
              "      <th>Andar</th>\n",
              "      <th>Pets</th>\n",
              "      <th>Mobiliado</th>\n",
              "      <th>Condominio</th>\n",
              "      <th>Aluguel</th>\n",
              "      <th>IPTU</th>\n",
              "      <th>Seg Incendio</th>\n",
              "      <th>total (R$)</th>\n",
              "    </tr>\n",
              "  </thead>\n",
              "  <tbody>\n",
              "    <tr>\n",
              "      <th>255</th>\n",
              "      <td>Belo Horizonte</td>\n",
              "      <td>155</td>\n",
              "      <td>1</td>\n",
              "      <td>4</td>\n",
              "      <td>0</td>\n",
              "      <td>4</td>\n",
              "      <td>not acept</td>\n",
              "      <td>not furnished</td>\n",
              "      <td>1117000</td>\n",
              "      <td>2790</td>\n",
              "      <td>64</td>\n",
              "      <td>38</td>\n",
              "      <td>1120000</td>\n",
              "    </tr>\n",
              "    <tr>\n",
              "      <th>1444</th>\n",
              "      <td>Porto Alegre</td>\n",
              "      <td>42</td>\n",
              "      <td>1</td>\n",
              "      <td>1</td>\n",
              "      <td>0</td>\n",
              "      <td>10</td>\n",
              "      <td>acept</td>\n",
              "      <td>not furnished</td>\n",
              "      <td>32000</td>\n",
              "      <td>700</td>\n",
              "      <td>40</td>\n",
              "      <td>11</td>\n",
              "      <td>32750</td>\n",
              "    </tr>\n",
              "    <tr>\n",
              "      <th>1699</th>\n",
              "      <td>São Paulo</td>\n",
              "      <td>700</td>\n",
              "      <td>4</td>\n",
              "      <td>4</td>\n",
              "      <td>4</td>\n",
              "      <td>-</td>\n",
              "      <td>acept</td>\n",
              "      <td>not furnished</td>\n",
              "      <td>0</td>\n",
              "      <td>10000</td>\n",
              "      <td>21880</td>\n",
              "      <td>151</td>\n",
              "      <td>32040</td>\n",
              "    </tr>\n",
              "    <tr>\n",
              "      <th>2182</th>\n",
              "      <td>São Paulo</td>\n",
              "      <td>700</td>\n",
              "      <td>4</td>\n",
              "      <td>7</td>\n",
              "      <td>8</td>\n",
              "      <td>-</td>\n",
              "      <td>acept</td>\n",
              "      <td>not furnished</td>\n",
              "      <td>0</td>\n",
              "      <td>45000</td>\n",
              "      <td>8750</td>\n",
              "      <td>677</td>\n",
              "      <td>54430</td>\n",
              "    </tr>\n",
              "    <tr>\n",
              "      <th>2859</th>\n",
              "      <td>São Paulo</td>\n",
              "      <td>285</td>\n",
              "      <td>4</td>\n",
              "      <td>5</td>\n",
              "      <td>4</td>\n",
              "      <td>6</td>\n",
              "      <td>acept</td>\n",
              "      <td>furnished</td>\n",
              "      <td>200000</td>\n",
              "      <td>20000</td>\n",
              "      <td>1834</td>\n",
              "      <td>254</td>\n",
              "      <td>222100</td>\n",
              "    </tr>\n",
              "    <tr>\n",
              "      <th>2928</th>\n",
              "      <td>Rio de Janeiro</td>\n",
              "      <td>35</td>\n",
              "      <td>1</td>\n",
              "      <td>1</td>\n",
              "      <td>0</td>\n",
              "      <td>1</td>\n",
              "      <td>acept</td>\n",
              "      <td>furnished</td>\n",
              "      <td>81150</td>\n",
              "      <td>4500</td>\n",
              "      <td>9900</td>\n",
              "      <td>58</td>\n",
              "      <td>95610</td>\n",
              "    </tr>\n",
              "    <tr>\n",
              "      <th>6185</th>\n",
              "      <td>São Paulo</td>\n",
              "      <td>455</td>\n",
              "      <td>4</td>\n",
              "      <td>5</td>\n",
              "      <td>4</td>\n",
              "      <td>5</td>\n",
              "      <td>acept</td>\n",
              "      <td>not furnished</td>\n",
              "      <td>8500</td>\n",
              "      <td>19500</td>\n",
              "      <td>3334</td>\n",
              "      <td>248</td>\n",
              "      <td>31580</td>\n",
              "    </tr>\n",
              "    <tr>\n",
              "      <th>6243</th>\n",
              "      <td>Rio de Janeiro</td>\n",
              "      <td>95</td>\n",
              "      <td>2</td>\n",
              "      <td>2</td>\n",
              "      <td>1</td>\n",
              "      <td>11</td>\n",
              "      <td>acept</td>\n",
              "      <td>not furnished</td>\n",
              "      <td>1024</td>\n",
              "      <td>3000</td>\n",
              "      <td>28120</td>\n",
              "      <td>39</td>\n",
              "      <td>32180</td>\n",
              "    </tr>\n",
              "    <tr>\n",
              "      <th>6645</th>\n",
              "      <td>São Paulo</td>\n",
              "      <td>42</td>\n",
              "      <td>1</td>\n",
              "      <td>2</td>\n",
              "      <td>1</td>\n",
              "      <td>6</td>\n",
              "      <td>not acept</td>\n",
              "      <td>not furnished</td>\n",
              "      <td>690</td>\n",
              "      <td>2500</td>\n",
              "      <td>313700</td>\n",
              "      <td>32</td>\n",
              "      <td>316900</td>\n",
              "    </tr>\n",
              "    <tr>\n",
              "      <th>6979</th>\n",
              "      <td>Belo Horizonte</td>\n",
              "      <td>155</td>\n",
              "      <td>1</td>\n",
              "      <td>4</td>\n",
              "      <td>0</td>\n",
              "      <td>4</td>\n",
              "      <td>not acept</td>\n",
              "      <td>not furnished</td>\n",
              "      <td>1117000</td>\n",
              "      <td>2790</td>\n",
              "      <td>64</td>\n",
              "      <td>38</td>\n",
              "      <td>1120000</td>\n",
              "    </tr>\n",
              "    <tr>\n",
              "      <th>7748</th>\n",
              "      <td>São Paulo</td>\n",
              "      <td>350</td>\n",
              "      <td>3</td>\n",
              "      <td>3</td>\n",
              "      <td>3</td>\n",
              "      <td>-</td>\n",
              "      <td>acept</td>\n",
              "      <td>not furnished</td>\n",
              "      <td>0</td>\n",
              "      <td>30000</td>\n",
              "      <td>560</td>\n",
              "      <td>451</td>\n",
              "      <td>31010</td>\n",
              "    </tr>\n",
              "  </tbody>\n",
              "</table>\n",
              "</div>"
            ],
            "text/plain": [
              "              Cidade  area  Quartos  ...    IPTU  Seg Incendio total (R$)\n",
              "255   Belo Horizonte   155        1  ...      64            38    1120000\n",
              "1444    Porto Alegre    42        1  ...      40            11      32750\n",
              "1699       São Paulo   700        4  ...   21880           151      32040\n",
              "2182       São Paulo   700        4  ...    8750           677      54430\n",
              "2859       São Paulo   285        4  ...    1834           254     222100\n",
              "2928  Rio de Janeiro    35        1  ...    9900            58      95610\n",
              "6185       São Paulo   455        4  ...    3334           248      31580\n",
              "6243  Rio de Janeiro    95        2  ...   28120            39      32180\n",
              "6645       São Paulo    42        1  ...  313700            32     316900\n",
              "6979  Belo Horizonte   155        1  ...      64            38    1120000\n",
              "7748       São Paulo   350        3  ...     560           451      31010\n",
              "\n",
              "[11 rows x 13 columns]"
            ]
          },
          "metadata": {},
          "execution_count": 137
        }
      ]
    },
    {
      "cell_type": "code",
      "metadata": {
        "colab": {
          "base_uri": "https://localhost:8080/",
          "height": 0
        },
        "id": "6eCBypc7tA2E",
        "outputId": "f761a894-07f2-4f17-a28f-2589cf8fd461"
      },
      "source": [
        "subdf.loc[subdf['total (R$)'] > 30000].count()"
      ],
      "execution_count": 138,
      "outputs": [
        {
          "output_type": "execute_result",
          "data": {
            "text/plain": [
              "Cidade          11\n",
              "area            11\n",
              "Quartos         11\n",
              "Banheiros       11\n",
              "VagasEst        11\n",
              "Andar           11\n",
              "Pets            11\n",
              "Mobiliado       11\n",
              "Condominio      11\n",
              "Aluguel         11\n",
              "IPTU            11\n",
              "Seg Incendio    11\n",
              "total (R$)      11\n",
              "dtype: int64"
            ]
          },
          "metadata": {},
          "execution_count": 138
        }
      ]
    },
    {
      "cell_type": "code",
      "metadata": {
        "id": "Jdyc8s0Gs4Fc"
      },
      "source": [
        "#descartando as linhas com valor de aluguel discrepante - serão descartados imóveis com valores de aluguel acima de 30.000\n",
        "subdf = subdf.loc[subdf['total (R$)'] < 30000]"
      ],
      "execution_count": 139,
      "outputs": []
    },
    {
      "cell_type": "code",
      "metadata": {
        "colab": {
          "base_uri": "https://localhost:8080/",
          "height": 0
        },
        "id": "RFFCm_6Ztgy1",
        "outputId": "df7225fe-e471-41e8-da3c-ed20d7e6ed54"
      },
      "source": [
        "#verificando resultado após a limpeza\n",
        "subdf['total (R$)'].describe().apply(\"{0:.2f}\".format)"
      ],
      "execution_count": 141,
      "outputs": [
        {
          "output_type": "execute_result",
          "data": {
            "text/plain": [
              "count    10273.00\n",
              "mean      4986.67\n",
              "std       4284.18\n",
              "min        499.00\n",
              "25%       2021.00\n",
              "50%       3444.00\n",
              "75%       6368.00\n",
              "max      28790.00\n",
              "Name: total (R$), dtype: object"
            ]
          },
          "metadata": {},
          "execution_count": 141
        }
      ]
    },
    {
      "cell_type": "code",
      "metadata": {
        "colab": {
          "base_uri": "https://localhost:8080/",
          "height": 349
        },
        "id": "eEu4PNZytr1V",
        "outputId": "2ecfa6cf-e99b-44b0-d277-74ed2a3ab243"
      },
      "source": [
        "#verificando graficamente \n",
        "plt.boxplot(subdf['total (R$)']);"
      ],
      "execution_count": 142,
      "outputs": [
        {
          "output_type": "display_data",
          "data": {
            "image/png": "[encoded data removed]",
            "text/plain": [
              "<Figure size 576x396 with 1 Axes>"
            ]
          },
          "metadata": {}
        }
      ]
    },
    {
      "cell_type": "code",
      "metadata": {
        "colab": {
          "base_uri": "https://localhost:8080/",
          "height": 423
        },
        "id": "zdUw0wcsuD4H",
        "outputId": "9f6bcf28-8019-43ea-caef-e7368692e3e1"
      },
      "source": [
        "#pelo gráfico anterior é possível que ainda existem muitos valores discrepantes\n",
        "subdf.loc[subdf['total (R$)'] > 15000]"
      ],
      "execution_count": 143,
      "outputs": [
        {
          "output_type": "execute_result",
          "data": {
            "text/html": [
              "<div>\n",
              "<style scoped>\n",
              "    .dataframe tbody tr th:only-of-type {\n",
              "        vertical-align: middle;\n",
              "    }\n",
              "\n",
              "    .dataframe tbody tr th {\n",
              "        vertical-align: top;\n",
              "    }\n",
              "\n",
              "    .dataframe thead th {\n",
              "        text-align: right;\n",
              "    }\n",
              "</style>\n",
              "<table border=\"1\" class=\"dataframe\">\n",
              "  <thead>\n",
              "    <tr style=\"text-align: right;\">\n",
              "      <th></th>\n",
              "      <th>Cidade</th>\n",
              "      <th>area</th>\n",
              "      <th>Quartos</th>\n",
              "      <th>Banheiros</th>\n",
              "      <th>VagasEst</th>\n",
              "      <th>Andar</th>\n",
              "      <th>Pets</th>\n",
              "      <th>Mobiliado</th>\n",
              "      <th>Condominio</th>\n",
              "      <th>Aluguel</th>\n",
              "      <th>IPTU</th>\n",
              "      <th>Seg Incendio</th>\n",
              "      <th>total (R$)</th>\n",
              "    </tr>\n",
              "  </thead>\n",
              "  <tbody>\n",
              "    <tr>\n",
              "      <th>8</th>\n",
              "      <td>São Paulo</td>\n",
              "      <td>152</td>\n",
              "      <td>2</td>\n",
              "      <td>2</td>\n",
              "      <td>1</td>\n",
              "      <td>3</td>\n",
              "      <td>acept</td>\n",
              "      <td>furnished</td>\n",
              "      <td>1000</td>\n",
              "      <td>15000</td>\n",
              "      <td>250</td>\n",
              "      <td>191</td>\n",
              "      <td>16440</td>\n",
              "    </tr>\n",
              "    <tr>\n",
              "      <th>19</th>\n",
              "      <td>São Paulo</td>\n",
              "      <td>600</td>\n",
              "      <td>4</td>\n",
              "      <td>5</td>\n",
              "      <td>6</td>\n",
              "      <td>-</td>\n",
              "      <td>acept</td>\n",
              "      <td>not furnished</td>\n",
              "      <td>0</td>\n",
              "      <td>12000</td>\n",
              "      <td>9500</td>\n",
              "      <td>181</td>\n",
              "      <td>21680</td>\n",
              "    </tr>\n",
              "    <tr>\n",
              "      <th>40</th>\n",
              "      <td>São Paulo</td>\n",
              "      <td>300</td>\n",
              "      <td>4</td>\n",
              "      <td>6</td>\n",
              "      <td>4</td>\n",
              "      <td>20</td>\n",
              "      <td>acept</td>\n",
              "      <td>not furnished</td>\n",
              "      <td>3700</td>\n",
              "      <td>12000</td>\n",
              "      <td>1584</td>\n",
              "      <td>153</td>\n",
              "      <td>17440</td>\n",
              "    </tr>\n",
              "    <tr>\n",
              "      <th>86</th>\n",
              "      <td>São Paulo</td>\n",
              "      <td>600</td>\n",
              "      <td>4</td>\n",
              "      <td>4</td>\n",
              "      <td>4</td>\n",
              "      <td>9</td>\n",
              "      <td>acept</td>\n",
              "      <td>not furnished</td>\n",
              "      <td>7400</td>\n",
              "      <td>8500</td>\n",
              "      <td>3368</td>\n",
              "      <td>108</td>\n",
              "      <td>19380</td>\n",
              "    </tr>\n",
              "    <tr>\n",
              "      <th>106</th>\n",
              "      <td>São Paulo</td>\n",
              "      <td>300</td>\n",
              "      <td>4</td>\n",
              "      <td>5</td>\n",
              "      <td>4</td>\n",
              "      <td>-</td>\n",
              "      <td>acept</td>\n",
              "      <td>furnished</td>\n",
              "      <td>0</td>\n",
              "      <td>14000</td>\n",
              "      <td>1167</td>\n",
              "      <td>211</td>\n",
              "      <td>15380</td>\n",
              "    </tr>\n",
              "    <tr>\n",
              "      <th>...</th>\n",
              "      <td>...</td>\n",
              "      <td>...</td>\n",
              "      <td>...</td>\n",
              "      <td>...</td>\n",
              "      <td>...</td>\n",
              "      <td>...</td>\n",
              "      <td>...</td>\n",
              "      <td>...</td>\n",
              "      <td>...</td>\n",
              "      <td>...</td>\n",
              "      <td>...</td>\n",
              "      <td>...</td>\n",
              "      <td>...</td>\n",
              "    </tr>\n",
              "    <tr>\n",
              "      <th>10620</th>\n",
              "      <td>Rio de Janeiro</td>\n",
              "      <td>400</td>\n",
              "      <td>4</td>\n",
              "      <td>4</td>\n",
              "      <td>2</td>\n",
              "      <td>-</td>\n",
              "      <td>acept</td>\n",
              "      <td>not furnished</td>\n",
              "      <td>2000</td>\n",
              "      <td>15000</td>\n",
              "      <td>917</td>\n",
              "      <td>229</td>\n",
              "      <td>18150</td>\n",
              "    </tr>\n",
              "    <tr>\n",
              "      <th>10633</th>\n",
              "      <td>Rio de Janeiro</td>\n",
              "      <td>290</td>\n",
              "      <td>4</td>\n",
              "      <td>4</td>\n",
              "      <td>0</td>\n",
              "      <td>-</td>\n",
              "      <td>acept</td>\n",
              "      <td>not furnished</td>\n",
              "      <td>0</td>\n",
              "      <td>15000</td>\n",
              "      <td>750</td>\n",
              "      <td>229</td>\n",
              "      <td>15980</td>\n",
              "    </tr>\n",
              "    <tr>\n",
              "      <th>10669</th>\n",
              "      <td>São Paulo</td>\n",
              "      <td>340</td>\n",
              "      <td>4</td>\n",
              "      <td>5</td>\n",
              "      <td>3</td>\n",
              "      <td>15</td>\n",
              "      <td>not acept</td>\n",
              "      <td>furnished</td>\n",
              "      <td>3519</td>\n",
              "      <td>12000</td>\n",
              "      <td>1287</td>\n",
              "      <td>153</td>\n",
              "      <td>16960</td>\n",
              "    </tr>\n",
              "    <tr>\n",
              "      <th>10681</th>\n",
              "      <td>São Paulo</td>\n",
              "      <td>230</td>\n",
              "      <td>3</td>\n",
              "      <td>5</td>\n",
              "      <td>3</td>\n",
              "      <td>3</td>\n",
              "      <td>not acept</td>\n",
              "      <td>not furnished</td>\n",
              "      <td>3800</td>\n",
              "      <td>11000</td>\n",
              "      <td>1100</td>\n",
              "      <td>140</td>\n",
              "      <td>16040</td>\n",
              "    </tr>\n",
              "    <tr>\n",
              "      <th>10688</th>\n",
              "      <td>São Paulo</td>\n",
              "      <td>285</td>\n",
              "      <td>4</td>\n",
              "      <td>4</td>\n",
              "      <td>4</td>\n",
              "      <td>17</td>\n",
              "      <td>acept</td>\n",
              "      <td>not furnished</td>\n",
              "      <td>3100</td>\n",
              "      <td>15000</td>\n",
              "      <td>973</td>\n",
              "      <td>191</td>\n",
              "      <td>19260</td>\n",
              "    </tr>\n",
              "  </tbody>\n",
              "</table>\n",
              "<p>467 rows × 13 columns</p>\n",
              "</div>"
            ],
            "text/plain": [
              "               Cidade  area  Quartos  ...  IPTU  Seg Incendio total (R$)\n",
              "8           São Paulo   152        2  ...   250           191      16440\n",
              "19          São Paulo   600        4  ...  9500           181      21680\n",
              "40          São Paulo   300        4  ...  1584           153      17440\n",
              "86          São Paulo   600        4  ...  3368           108      19380\n",
              "106         São Paulo   300        4  ...  1167           211      15380\n",
              "...               ...   ...      ...  ...   ...           ...        ...\n",
              "10620  Rio de Janeiro   400        4  ...   917           229      18150\n",
              "10633  Rio de Janeiro   290        4  ...   750           229      15980\n",
              "10669       São Paulo   340        4  ...  1287           153      16960\n",
              "10681       São Paulo   230        3  ...  1100           140      16040\n",
              "10688       São Paulo   285        4  ...   973           191      19260\n",
              "\n",
              "[467 rows x 13 columns]"
            ]
          },
          "metadata": {},
          "execution_count": 143
        }
      ]
    },
    {
      "cell_type": "code",
      "metadata": {
        "colab": {
          "base_uri": "https://localhost:8080/",
          "height": 0
        },
        "id": "arlcQcu5iPSz",
        "outputId": "719af63a-918a-416a-9c4a-8afeb78a1cba"
      },
      "source": [
        "#continuando as análises com a base reduzida - imóveis com 4 dormintórios ou menos\n",
        "#apuração do valor médio de IPTU\n",
        "df.groupby(\"Cidade\")[\"IPTU\"].mean()"
      ],
      "execution_count": 148,
      "outputs": [
        {
          "output_type": "execute_result",
          "data": {
            "text/plain": [
              "Cidade\n",
              "Belo Horizonte    272.782194\n",
              "Campinas          147.657679\n",
              "Porto Alegre      124.021794\n",
              "Rio de Janeiro    256.853431\n",
              "São Paulo         495.701716\n",
              "Name: IPTU, dtype: float64"
            ]
          },
          "metadata": {},
          "execution_count": 148
        }
      ]
    },
    {
      "cell_type": "code",
      "metadata": {
        "colab": {
          "base_uri": "https://localhost:8080/",
          "height": 376
        },
        "id": "OK5845WQuCwJ",
        "outputId": "a908b4aa-215b-4a67-9bc1-272177bb5bfe"
      },
      "source": [
        "df.groupby(\"Cidade\")[\"IPTU\"].mean().plot.barh(title=\"Valor total médio de IPTU por cidade\", color=\"magenta\")\n",
        "plt.xlabel(\"Valor médio IPTU\");"
      ],
      "execution_count": 151,
      "outputs": [
        {
          "output_type": "display_data",
          "data": {
            "image/png": "[encoded data removed]",
            "text/plain": [
              "<Figure size 576x396 with 1 Axes>"
            ]
          },
          "metadata": {}
        }
      ]
    },
    {
      "cell_type": "code",
      "metadata": {
        "colab": {
          "base_uri": "https://localhost:8080/",
          "height": 0
        },
        "id": "7vnJuz7-wv8e",
        "outputId": "62c141c9-8df3-442f-fd56-123255c24a7b"
      },
      "source": [
        "#apuração do valor médio de Condomínio - imóveis com 4 dormintórios ou menos\n",
        "df.groupby(\"Cidade\")[\"Condominio\"].mean()"
      ],
      "execution_count": 152,
      "outputs": [
        {
          "output_type": "execute_result",
          "data": {
            "text/plain": [
              "Cidade\n",
              "Belo Horizonte    2324.197138\n",
              "Campinas           628.922626\n",
              "Porto Alegre       491.618609\n",
              "Rio de Janeiro    1079.432378\n",
              "São Paulo         1169.627994\n",
              "Name: Condominio, dtype: float64"
            ]
          },
          "metadata": {},
          "execution_count": 152
        }
      ]
    },
    {
      "cell_type": "code",
      "metadata": {
        "colab": {
          "base_uri": "https://localhost:8080/",
          "height": 376
        },
        "id": "o_8nj0gPw2p-",
        "outputId": "de0f3d18-0489-4b2a-f82b-b3156d6b73f9"
      },
      "source": [
        "df.groupby(\"Cidade\")[\"Condominio\"].mean().plot.barh(title=\"Valor total médio de condominio por cidade\", color=\"orange\")\n",
        "plt.xlabel(\"Valor médio Condominio\");"
      ],
      "execution_count": 153,
      "outputs": [
        {
          "output_type": "display_data",
          "data": {
            "image/png": "[encoded data removed]",
            "text/plain": [
              "<Figure size 576x396 with 1 Axes>"
            ]
          },
          "metadata": {}
        }
      ]
    },
    {
      "cell_type": "code",
      "metadata": {
        "colab": {
          "base_uri": "https://localhost:8080/",
          "height": 376
        },
        "id": "joeEH3iyxkBQ",
        "outputId": "87dd4e38-16db-48e9-d245-521d540e72e5"
      },
      "source": [
        "#comparação entre os gastos com IPTU e condomínio\n",
        "plt.subplot(121)\n",
        "df.groupby(\"Cidade\")[\"IPTU\"].mean().plot.barh(title=\"Valor total médio de IPTU por cidade\", color=\"magenta\")\n",
        "plt.xlabel(\"Valor médio IPTU\");\n",
        "plt.subplot(122)\n",
        "df.groupby(\"Cidade\")[\"Condominio\"].mean().plot.barh(title=\"Valor total médio de condominio por cidade\", color=\"orange\")\n",
        "plt.xlabel(\"Valor médio Condominio\");"
      ],
      "execution_count": 177,
      "outputs": [
        {
          "output_type": "display_data",
          "data": {
            "image/png": "[encoded data removed]",
            "text/plain": [
              "<Figure size 576x396 with 2 Axes>"
            ]
          },
          "metadata": {}
        }
      ]
    }
  ]
}